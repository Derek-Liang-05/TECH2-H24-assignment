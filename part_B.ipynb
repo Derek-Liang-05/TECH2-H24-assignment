{
 "cells": [
  {
   "cell_type": "markdown",
   "metadata": {},
   "source": [
    "# TECH 2 mandatory assignment - Part B\n",
    "\n",
    "Write your solution for Part B in this notebook."
   ]
  },
  {
   "cell_type": "markdown",
   "metadata": {},
   "source": [
    "The following code extracts the data from the csv file and appends it into three lists, one for each column. The code also removes all empty entries from the lists and makes all entries floats"
   ]
  },
  {
   "cell_type": "code",
   "execution_count": 3,
   "metadata": {},
   "outputs": [],
   "source": [
    "import csv\n",
    "import timeit\n",
    "import numpy as npy\n",
    "\n",
    "column1 = []\n",
    "column2 = []\n",
    "column3 = []\n",
    "\n",
    "with open(\"data.csv\", \"r\", newline='') as csvfile:\n",
    "    reader = csv.reader(csvfile)\n",
    "\n",
    "    for row in reader:\n",
    "        column1.append(row[0])  # First column\n",
    "        column2.append(row[1])  # Second column\n",
    "        column3.append(row[2])  # Third column\n",
    "\n",
    "column1 = [float(x) for x in column1 if x]\n",
    "column2 = [float(x) for x in column2 if x]\n",
    "column3 = [float(x) for x in column3 if x]"
   ]
  },
  {
   "cell_type": "markdown",
   "metadata": {},
   "source": [
    "The second part of the programme is where the functions are defined. The last way of finding the standard deviation is simply using the integrated function and is therefore not included here. "
   ]
  },
  {
   "cell_type": "code",
   "execution_count": 5,
   "metadata": {},
   "outputs": [],
   "source": [
    "def std_loops(x):\n",
    "    \n",
    "    sum_list = 0 \n",
    "    length = 0\n",
    "    sum_sqr = 0\n",
    "\n",
    "    for i in x:\n",
    "        sum_list += i\n",
    "        sum_sqr += i**2\n",
    "        length += 1\n",
    "\n",
    "    variance = (sum_sqr/length) - (sum_list/length) ** 2\n",
    "    return variance ** 0.5\n",
    "\n",
    "def std_builtin(x):\n",
    "    \n",
    "    x_sqr = []\n",
    "    x_sqr = [i ** 2 for i in x]\n",
    "\n",
    "    variance =  (sum(x_sqr)/len(x_sqr)) - (sum(x)/len(x)) ** 2\n",
    "\n",
    "    return variance ** 0.5\n"
   ]
  },
  {
   "cell_type": "markdown",
   "metadata": {},
   "source": [
    "Since there are three columns, there should be three tests of the different functions. \n",
    "Test 1: "
   ]
  },
  {
   "cell_type": "code",
   "execution_count": 12,
   "metadata": {},
   "outputs": [
    {
     "name": "stdout",
     "output_type": "stream",
     "text": [
      "9.86 μs ± 37.2 ns per loop (mean ± std. dev. of 7 runs, 100,000 loops each)\n",
      "9.04 μs ± 173 ns per loop (mean ± std. dev. of 7 runs, 100,000 loops each)\n",
      "12.6 μs ± 115 ns per loop (mean ± std. dev. of 7 runs, 100,000 loops each)\n"
     ]
    }
   ],
   "source": [
    "%timeit std_loops(column1)\n",
    "%timeit std_builtin(column1)\n",
    "%timeit npy.std(column1)"
   ]
  },
  {
   "attachments": {},
   "cell_type": "markdown",
   "metadata": {},
   "source": [
    "The second way of solving is a little faster by a small margin followed by the method that uses loops. The integraded std-function is the slowest."
   ]
  },
  {
   "cell_type": "code",
   "execution_count": 14,
   "metadata": {},
   "outputs": [
    {
     "name": "stdout",
     "output_type": "stream",
     "text": [
      "110 μs ± 3.09 μs per loop (mean ± std. dev. of 7 runs, 10,000 loops each)\n",
      "91.1 μs ± 1.85 μs per loop (mean ± std. dev. of 7 runs, 10,000 loops each)\n",
      "37.7 μs ± 290 ns per loop (mean ± std. dev. of 7 runs, 10,000 loops each)\n"
     ]
    }
   ],
   "source": [
    "%timeit std_loops(column2)\n",
    "%timeit std_builtin(column2)\n",
    "%timeit npy.std(column2)"
   ]
  },
  {
   "cell_type": "markdown",
   "metadata": {},
   "source": [
    "Here the integrated function is far quicker than the others. The second algorithm is still faster than the first. "
   ]
  },
  {
   "cell_type": "code",
   "execution_count": 15,
   "metadata": {},
   "outputs": [
    {
     "name": "stdout",
     "output_type": "stream",
     "text": [
      "1.13 ms ± 11.9 μs per loop (mean ± std. dev. of 7 runs, 1,000 loops each)\n",
      "916 μs ± 8.52 μs per loop (mean ± std. dev. of 7 runs, 1,000 loops each)\n",
      "289 μs ± 3.86 μs per loop (mean ± std. dev. of 7 runs, 1,000 loops each)\n"
     ]
    }
   ],
   "source": [
    "%timeit std_loops(column3)\n",
    "%timeit std_builtin(column3)\n",
    "%timeit npy.std(column3)"
   ]
  },
  {
   "cell_type": "markdown",
   "metadata": {},
   "source": [
    "The integrated function is still the fastest, by a big margin."
   ]
  },
  {
   "cell_type": "markdown",
   "metadata": {},
   "source": [
    "The programme shows that in the case of relative few entries, it is faster to use built in python functions to create an algorithm for finding the standard deviation - with the loop-algorithm being close behind. However, as the number of entries increase, the integrated std() function far surpasses the others in therms of speed. Furthermore, it is also by far the quickest and easiest algorithm to write.\n",
    "\n",
    "It is also worth mentioning that even the slowest method used only a little over 1ms on solving 10k entries. Unless there are massive amounts of data needed to be processed, there is in practice, no difference in either method - except for the time used to write the code. Where the std() function is easily the quickest. "
   ]
  }
 ],
 "metadata": {
  "kernelspec": {
   "display_name": "Python 3 (ipykernel)",
   "language": "python",
   "name": "python3"
  },
  "language_info": {
   "codemirror_mode": {
    "name": "ipython",
    "version": 3
   },
   "file_extension": ".py",
   "mimetype": "text/x-python",
   "name": "python",
   "nbconvert_exporter": "python",
   "pygments_lexer": "ipython3",
   "version": "3.12.4"
  }
 },
 "nbformat": 4,
 "nbformat_minor": 4
}
